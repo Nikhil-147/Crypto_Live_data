{
 "cells": [
  {
   "cell_type": "code",
   "execution_count": null,
   "id": "82267f55-2f7c-43a5-8601-655d41dde45f",
   "metadata": {},
   "outputs": [
    {
     "name": "stdout",
     "output_type": "stream",
     "text": [
      "Connection Successfully! \n",
      "Getting Data....\n",
      "Excel saved as crypto_live_data_20250213_164200.xlsx\n",
      "Connection Successfully! \n",
      "Getting Data....\n",
      "Excel saved as crypto_live_data_20250213_164701.xlsx\n"
     ]
    }
   ],
   "source": [
    "import requests \n",
    "import pandas as pd\n",
    "import time\n",
    "import datetime\n",
    "from openpyxl import Workbook\n",
    "\n",
    "\n",
    "url = \"https://api.coingecko.com/api/v3/coins/markets\"\n",
    "param = {\n",
    "    \"vs_currency\": \"usd\",\n",
    "    \"order\": \"market_cap_desc\",\n",
    "    \"per_page\": 50,\n",
    "    \"page\": 1,\n",
    "    \"sparkline\": False\n",
    "}\n",
    "\n",
    "while True:\n",
    "    \n",
    "    response = requests.get(url, params=param)\n",
    "    \n",
    "    if response.status_code == 200:\n",
    "        print(\"Connection Successfully! \\nGetting Data....\")\n",
    "    \n",
    "        # Storing the response in the data\n",
    "        data = response.json()\n",
    "    \n",
    "        # Creating data frame\n",
    "        df = pd.DataFrame(data)\n",
    "    \n",
    "        #convert data frame \n",
    "        df = df[[\"name\", \"symbol\", \"current_price\", \"market_cap\", \"total_volume\", \"price_change_percentage_24h\"]]\n",
    "    \n",
    "        # Identify Top 5 Cryptos by Market Cap\n",
    "        top_5 = df.nlargest(5, 'market_cap')[[\"name\", \"market_cap\"]]\n",
    "\n",
    "        # Calculate Average Price of Top 50 Cryptos\n",
    "        avg_price = df[\"current_price\"].mean()\n",
    "    \n",
    "        # Find Highest & Lowest 24h % Price Change\n",
    "        highest_change = df.loc[df[\"price_change_percentage_24h\"].idxmax(), [\"name\", \"price_change_percentage_24h\"]]\n",
    "        lowest_change = df.loc[df[\"price_change_percentage_24h\"].idxmin(), [\"name\", \"price_change_percentage_24h\"]]\n",
    "\n",
    "        # create file name\n",
    "        filename = f\"crypto_live_data_{datetime.datetime.now().strftime('%Y%m%d_%H%M%S')}.xlsx\"\n",
    "    \n",
    "        # Save data in excel.\n",
    "        with pd.ExcelWriter(filename, engine=\"openpyxl\") as writer:\n",
    "            df.to_excel(writer, sheet_name=\"Top 50 Cryptos\", index=False)\n",
    "            top_5.to_excel(writer, sheet_name=\"Top 5 by Market Cap\", index=False)\n",
    "    \n",
    "            summary = pd.DataFrame({\n",
    "                \"Metric\": [\"Average Price\", \"Highest 24h Change\", \"Lowest 24h Change\"],\n",
    "                \"Value\": [\n",
    "                    avg_price, \n",
    "                    f\"{highest_change['name']} ({highest_change['price_change_percentage_24h']}%)\", \n",
    "                    f\"{lowest_change['name']} ({lowest_change['price_change_percentage_24h']}%)\"\n",
    "                ]\n",
    "            })\n",
    "            summary.to_excel(writer, sheet_name=\"Analysis Summary\", index=False)\n",
    "    \n",
    "        print(f\"Excel saved as {filename}\")\n",
    "        \n",
    "        time.sleep(300)  # Wait for 5 minutes before next update\n",
    "    \n",
    "    else:\n",
    "        print(f\"Connecction failed error code {response.status_code}\")\n"
   ]
  },
  {
   "cell_type": "code",
   "execution_count": null,
   "id": "90f07ac3-0d1d-4fc8-82fe-d44d94ad8116",
   "metadata": {},
   "outputs": [],
   "source": [
    "\n",
    "\n",
    "    #print(\"Top 50 data \\n\",df)\n",
    "    #print(\"\\n\",top_5,\"\\n\",avg_price,\"\\n\", highest_change,\"\\n\", lowest_change)\n",
    "\n",
    "    \"\"\"\n",
    "    # Saving the data\n",
    "    df.to_csv(f\"Crypto data.csv\",index=False)\n",
    "    print(\"Data Saved Successfully..\")\"\"\""
   ]
  }
 ],
 "metadata": {
  "kernelspec": {
   "display_name": "Python [conda env:base] *",
   "language": "python",
   "name": "conda-base-py"
  },
  "language_info": {
   "codemirror_mode": {
    "name": "ipython",
    "version": 3
   },
   "file_extension": ".py",
   "mimetype": "text/x-python",
   "name": "python",
   "nbconvert_exporter": "python",
   "pygments_lexer": "ipython3",
   "version": "3.11.7"
  }
 },
 "nbformat": 4,
 "nbformat_minor": 5
}
